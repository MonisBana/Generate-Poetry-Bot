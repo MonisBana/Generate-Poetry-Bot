{
 "cells": [
  {
   "cell_type": "code",
   "execution_count": 1,
   "metadata": {
    "id": "IoNM36zyLdDi"
   },
   "outputs": [],
   "source": [
    "from tensorflow.keras.preprocessing.sequence import pad_sequences\n",
    "from tensorflow.keras.layers import Embedding, LSTM, Dense, Dropout, Bidirectional\n",
    "from tensorflow.keras.preprocessing.text import Tokenizer\n",
    "from tensorflow.keras.models import Sequential,load_model\n",
    "from tensorflow.keras.optimizers import Adam\n",
    "from tensorflow.keras import regularizers\n",
    "import tensorflow.keras.utils as ku \n",
    "import numpy as np\n",
    "import pandas as pd\n",
    "import pickle\n",
    "import matplotlib.pyplot as plt"
   ]
  },
  {
   "cell_type": "code",
   "execution_count": 2,
   "metadata": {
    "id": "buTC7H4SLjKl"
   },
   "outputs": [],
   "source": [
    "all_data = pd.read_csv('all.csv')"
   ]
  },
  {
   "cell_type": "code",
   "execution_count": 3,
   "metadata": {
    "id": "E0ANzr8zLjyI"
   },
   "outputs": [],
   "source": [
    "modern_nature = all_data[(all_data['type'] == 'Nature') & (all_data['age'] == 'Modern')]['content']\n",
    "renaissance_love = all_data[(all_data['type'] == 'Love') & (all_data['age'] == 'Renaissance')]['content']\n",
    "modern_love = all_data[(all_data['type'] == 'Love') & (all_data['age'] == 'Modern')]['content']\n",
    "renaissance_nature = all_data[(all_data['type'] == 'Nature') & (all_data['age'] == 'Renaissance')]['content']"
   ]
  },
  {
   "cell_type": "code",
   "execution_count": 4,
   "metadata": {
    "id": "zFlMIVYVP5CU"
   },
   "outputs": [],
   "source": [
    "def plot_history(history):\n",
    "  acc = history.history['accuracy']\n",
    "  loss = history.history['loss']\n",
    "\n",
    "  epochs = range(len(acc))\n",
    "\n",
    "  plt.plot(epochs, acc, 'b', label='Training accuracy')\n",
    "  plt.title('Training accuracy')\n",
    "\n",
    "  plt.figure()\n",
    "\n",
    "  plt.plot(epochs, loss, 'b', label='Training Loss')\n",
    "  plt.title('Training loss')\n",
    "  plt.legend()\n",
    "\n",
    "  plt.show()"
   ]
  },
  {
   "cell_type": "code",
   "execution_count": 5,
   "metadata": {
    "id": "RpeVbn6_NLnZ"
   },
   "outputs": [],
   "source": [
    "def prepare_data(corpus):\n",
    "  tokenizer = Tokenizer()\n",
    "  tokenizer.fit_on_texts(corpus)\n",
    "  total_words = len(tokenizer.word_index) + 1\n",
    "\n",
    "  # create input sequences using list of tokens\n",
    "  input_sequences = []\n",
    "  for line in corpus:\n",
    "    token_list = tokenizer.texts_to_sequences([line])[0]\n",
    "    for i in range(1, len(token_list)):\n",
    "      n_gram_sequence = token_list[:i+1]\n",
    "      input_sequences.append(n_gram_sequence)\n",
    "\n",
    "  # pad sequences \n",
    "  max_sequence_len = max([len(x) for x in input_sequences])\n",
    "  input_sequences = np.array(pad_sequences(input_sequences, maxlen=max_sequence_len, padding='pre'))\n",
    "\n",
    "  # create predictors and label\n",
    "  predictors, label = input_sequences[:,:-1],input_sequences[:,-1]\n",
    "\n",
    "  label = ku.to_categorical(label, num_classes=total_words)\n",
    "\n",
    "  return tokenizer,total_words,max_sequence_len,predictors,label"
   ]
  },
  {
   "cell_type": "code",
   "execution_count": 6,
   "metadata": {
    "id": "EoevbvMWN55a"
   },
   "outputs": [],
   "source": [
    "def make_model(total_words,max_sequence_len):\n",
    "  model = Sequential()\n",
    "  model.add(Embedding(total_words, 128, input_length=max_sequence_len - 1))\n",
    "  model.add(Bidirectional(LSTM(120, return_sequences=True)))\n",
    "  model.add(Dropout(0.2))\n",
    "  model.add(LSTM(96))\n",
    "  model.add(Dense(total_words/2, activation='relu', kernel_regularizer=regularizers.l2(0.01)))\n",
    "  model.add(Dense(total_words, activation='softmax'))\n",
    "\n",
    "\n",
    "  model.compile(\n",
    "      loss='categorical_crossentropy',\n",
    "      optimizer='adam',\n",
    "      metrics=['accuracy']\n",
    "  )\n",
    "\n",
    "  return model"
   ]
  },
  {
   "cell_type": "code",
   "execution_count": 2,
   "metadata": {
    "id": "OeBP8K1oO8x5"
   },
   "outputs": [],
   "source": [
    "def save_variable(name,variable):\n",
    "    with open(name+'.pickle', 'wb') as handle:\n",
    "        pickle.dump(variable, handle, protocol=pickle.HIGHEST_PROTOCOL)\n",
    "\n",
    "def load_variable(name):\n",
    "    with open(name+'.pickle', 'rb') as handle:\n",
    "        variable = pickle.load(handle)\n",
    "    return variable"
   ]
  },
  {
   "cell_type": "code",
   "execution_count": 8,
   "metadata": {
    "colab": {
     "base_uri": "https://localhost:8080/"
    },
    "id": "lh8a8FkqM5M3",
    "outputId": "663c187d-73e6-4dc0-bb89-274e7035030c"
   },
   "outputs": [
    {
     "name": "stdout",
     "output_type": "stream",
     "text": [
      "Model: \"sequential\"\n",
      "_________________________________________________________________\n",
      "Layer (type)                 Output Shape              Param #   \n",
      "=================================================================\n",
      "embedding (Embedding)        (None, 85, 128)           516352    \n",
      "_________________________________________________________________\n",
      "bidirectional (Bidirectional (None, 85, 240)           239040    \n",
      "_________________________________________________________________\n",
      "dropout (Dropout)            (None, 85, 240)           0         \n",
      "_________________________________________________________________\n",
      "lstm_1 (LSTM)                (None, 96)                129408    \n",
      "_________________________________________________________________\n",
      "dense (Dense)                (None, 2017)              195649    \n",
      "_________________________________________________________________\n",
      "dense_1 (Dense)              (None, 4034)              8140612   \n",
      "=================================================================\n",
      "Total params: 9,221,061\n",
      "Trainable params: 9,221,061\n",
      "Non-trainable params: 0\n",
      "_________________________________________________________________\n",
      "None\n"
     ]
    }
   ],
   "source": [
    "corpus = []\n",
    "for line in modern_nature:\n",
    "  corpus.extend(line.lower().split('\\r\\n'))\n",
    "\n",
    "tokenizer,total_words,max_sequence_len,predictors,label  = prepare_data(corpus)\n",
    "\n",
    "model = make_model(total_words,max_sequence_len)\n",
    "print(model.summary())"
   ]
  },
  {
   "cell_type": "code",
   "execution_count": 9,
   "metadata": {
    "id": "yZfh4EDXOL_o"
   },
   "outputs": [
    {
     "name": "stdout",
     "output_type": "stream",
     "text": [
      "Epoch 1/110\n",
      "446/446 [==============================] - 9s 20ms/step - loss: 7.1677 - accuracy: 0.0757\n",
      "Epoch 2/110\n",
      "446/446 [==============================] - 9s 19ms/step - loss: 6.6761 - accuracy: 0.0765\n",
      "Epoch 3/110\n",
      "446/446 [==============================] - 8s 19ms/step - loss: 6.4913 - accuracy: 0.0795\n",
      "Epoch 4/110\n",
      "446/446 [==============================] - 9s 19ms/step - loss: 6.3330 - accuracy: 0.0918\n",
      "Epoch 5/110\n",
      "446/446 [==============================] - 9s 19ms/step - loss: 6.2071 - accuracy: 0.1032\n",
      "Epoch 6/110\n",
      "446/446 [==============================] - 9s 19ms/step - loss: 6.0858 - accuracy: 0.1066\n",
      "Epoch 7/110\n",
      "446/446 [==============================] - 9s 20ms/step - loss: 5.9621 - accuracy: 0.1090\n",
      "Epoch 8/110\n",
      "446/446 [==============================] - 9s 20ms/step - loss: 5.8441 - accuracy: 0.1139\n",
      "Epoch 9/110\n",
      "446/446 [==============================] - 9s 20ms/step - loss: 5.7470 - accuracy: 0.1186\n",
      "Epoch 10/110\n",
      "446/446 [==============================] - 9s 20ms/step - loss: 5.6475 - accuracy: 0.1215\n",
      "Epoch 11/110\n",
      "446/446 [==============================] - 9s 20ms/step - loss: 5.5612 - accuracy: 0.1264\n",
      "Epoch 12/110\n",
      "446/446 [==============================] - 9s 20ms/step - loss: 5.4749 - accuracy: 0.1318\n",
      "Epoch 13/110\n",
      "446/446 [==============================] - 9s 21ms/step - loss: 5.4012 - accuracy: 0.1368\n",
      "Epoch 14/110\n",
      "446/446 [==============================] - 9s 21ms/step - loss: 5.3230 - accuracy: 0.1415\n",
      "Epoch 15/110\n",
      "446/446 [==============================] - 9s 21ms/step - loss: 5.2509 - accuracy: 0.1446\n",
      "Epoch 16/110\n",
      "446/446 [==============================] - 9s 21ms/step - loss: 5.1667 - accuracy: 0.1501\n",
      "Epoch 17/110\n",
      "446/446 [==============================] - 9s 21ms/step - loss: 5.0861 - accuracy: 0.1589\n",
      "Epoch 18/110\n",
      "446/446 [==============================] - 10s 21ms/step - loss: 5.0092 - accuracy: 0.1627\n",
      "Epoch 19/110\n",
      "446/446 [==============================] - 9s 21ms/step - loss: 4.9277 - accuracy: 0.1714\n",
      "Epoch 20/110\n",
      "446/446 [==============================] - 10s 21ms/step - loss: 4.8425 - accuracy: 0.1775\n",
      "Epoch 21/110\n",
      "446/446 [==============================] - 10s 22ms/step - loss: 4.7465 - accuracy: 0.1881\n",
      "Epoch 22/110\n",
      "446/446 [==============================] - 10s 22ms/step - loss: 4.6575 - accuracy: 0.1943\n",
      "Epoch 23/110\n",
      "446/446 [==============================] - 10s 22ms/step - loss: 4.5755 - accuracy: 0.2031\n",
      "Epoch 24/110\n",
      "446/446 [==============================] - 10s 22ms/step - loss: 4.4954 - accuracy: 0.2122\n",
      "Epoch 25/110\n",
      "446/446 [==============================] - 10s 22ms/step - loss: 4.4097 - accuracy: 0.2162\n",
      "Epoch 26/110\n",
      "446/446 [==============================] - 10s 22ms/step - loss: 4.3446 - accuracy: 0.2233\n",
      "Epoch 27/110\n",
      "446/446 [==============================] - 10s 22ms/step - loss: 4.2665 - accuracy: 0.2340\n",
      "Epoch 28/110\n",
      "446/446 [==============================] - 10s 22ms/step - loss: 4.1792 - accuracy: 0.2441\n",
      "Epoch 29/110\n",
      "446/446 [==============================] - 10s 22ms/step - loss: 4.1122 - accuracy: 0.2487\n",
      "Epoch 30/110\n",
      "446/446 [==============================] - 10s 22ms/step - loss: 4.0418 - accuracy: 0.2565\n",
      "Epoch 31/110\n",
      "446/446 [==============================] - 10s 22ms/step - loss: 3.9614 - accuracy: 0.2663\n",
      "Epoch 32/110\n",
      "446/446 [==============================] - 10s 22ms/step - loss: 3.8945 - accuracy: 0.2748\n",
      "Epoch 33/110\n",
      "446/446 [==============================] - 10s 22ms/step - loss: 3.8256 - accuracy: 0.2826\n",
      "Epoch 34/110\n",
      "446/446 [==============================] - 10s 22ms/step - loss: 3.7555 - accuracy: 0.2932\n",
      "Epoch 35/110\n",
      "446/446 [==============================] - 10s 22ms/step - loss: 3.6949 - accuracy: 0.3007\n",
      "Epoch 36/110\n",
      "446/446 [==============================] - 10s 23ms/step - loss: 3.6405 - accuracy: 0.3086\n",
      "Epoch 37/110\n",
      "446/446 [==============================] - 10s 22ms/step - loss: 3.5648 - accuracy: 0.3212\n",
      "Epoch 38/110\n",
      "446/446 [==============================] - 10s 23ms/step - loss: 3.5044 - accuracy: 0.3316\n",
      "Epoch 39/110\n",
      "446/446 [==============================] - 10s 23ms/step - loss: 3.4540 - accuracy: 0.3423\n",
      "Epoch 40/110\n",
      "446/446 [==============================] - 10s 22ms/step - loss: 3.3902 - accuracy: 0.3472\n",
      "Epoch 41/110\n",
      "446/446 [==============================] - 10s 23ms/step - loss: 3.3397 - accuracy: 0.3632\n",
      "Epoch 42/110\n",
      "446/446 [==============================] - 10s 23ms/step - loss: 3.2878 - accuracy: 0.3724\n",
      "Epoch 43/110\n",
      "446/446 [==============================] - 10s 23ms/step - loss: 3.2327 - accuracy: 0.3841\n",
      "Epoch 44/110\n",
      "446/446 [==============================] - 10s 23ms/step - loss: 3.1878 - accuracy: 0.3899\n",
      "Epoch 45/110\n",
      "446/446 [==============================] - 10s 23ms/step - loss: 3.1360 - accuracy: 0.3999\n",
      "Epoch 46/110\n",
      "446/446 [==============================] - 10s 22ms/step - loss: 3.0831 - accuracy: 0.4127\n",
      "Epoch 47/110\n",
      "446/446 [==============================] - 10s 23ms/step - loss: 3.0410 - accuracy: 0.4209\n",
      "Epoch 48/110\n",
      "446/446 [==============================] - 10s 23ms/step - loss: 3.0142 - accuracy: 0.4236\n",
      "Epoch 49/110\n",
      "446/446 [==============================] - 10s 23ms/step - loss: 2.9513 - accuracy: 0.4382\n",
      "Epoch 50/110\n",
      "446/446 [==============================] - 10s 23ms/step - loss: 2.9184 - accuracy: 0.4459\n",
      "Epoch 51/110\n",
      "446/446 [==============================] - 10s 23ms/step - loss: 2.8656 - accuracy: 0.4596\n",
      "Epoch 52/110\n",
      "446/446 [==============================] - 10s 23ms/step - loss: 2.8228 - accuracy: 0.4671\n",
      "Epoch 53/110\n",
      "446/446 [==============================] - 10s 23ms/step - loss: 2.7854 - accuracy: 0.4732\n",
      "Epoch 54/110\n",
      "446/446 [==============================] - 10s 23ms/step - loss: 2.7489 - accuracy: 0.4793\n",
      "Epoch 55/110\n",
      "446/446 [==============================] - 10s 23ms/step - loss: 2.7110 - accuracy: 0.4893\n",
      "Epoch 56/110\n",
      "446/446 [==============================] - 10s 23ms/step - loss: 2.6588 - accuracy: 0.4991\n",
      "Epoch 57/110\n",
      "446/446 [==============================] - 10s 23ms/step - loss: 2.6112 - accuracy: 0.5111\n",
      "Epoch 58/110\n",
      "446/446 [==============================] - 10s 23ms/step - loss: 2.5878 - accuracy: 0.5172\n",
      "Epoch 59/110\n",
      "446/446 [==============================] - 10s 23ms/step - loss: 2.5517 - accuracy: 0.5230\n",
      "Epoch 60/110\n",
      "446/446 [==============================] - 10s 23ms/step - loss: 2.5138 - accuracy: 0.5322\n",
      "Epoch 61/110\n",
      "446/446 [==============================] - 10s 23ms/step - loss: 2.4878 - accuracy: 0.5373\n",
      "Epoch 62/110\n",
      "446/446 [==============================] - 10s 23ms/step - loss: 2.4326 - accuracy: 0.5496\n",
      "Epoch 63/110\n",
      "446/446 [==============================] - 10s 23ms/step - loss: 2.4090 - accuracy: 0.5491\n",
      "Epoch 64/110\n",
      "446/446 [==============================] - 10s 23ms/step - loss: 2.3795 - accuracy: 0.5633\n",
      "Epoch 65/110\n",
      "446/446 [==============================] - 10s 23ms/step - loss: 2.3691 - accuracy: 0.5588\n",
      "Epoch 66/110\n",
      "446/446 [==============================] - 10s 23ms/step - loss: 2.3162 - accuracy: 0.5729\n",
      "Epoch 67/110\n",
      "446/446 [==============================] - 10s 23ms/step - loss: 2.2900 - accuracy: 0.5819\n",
      "Epoch 68/110\n",
      "446/446 [==============================] - 10s 23ms/step - loss: 2.2703 - accuracy: 0.5814\n",
      "Epoch 69/110\n",
      "446/446 [==============================] - 10s 23ms/step - loss: 2.2414 - accuracy: 0.5864\n",
      "Epoch 70/110\n",
      "446/446 [==============================] - 10s 24ms/step - loss: 2.2057 - accuracy: 0.5967\n",
      "Epoch 71/110\n",
      "446/446 [==============================] - 10s 23ms/step - loss: 2.1803 - accuracy: 0.5983\n",
      "Epoch 72/110\n",
      "446/446 [==============================] - 10s 23ms/step - loss: 2.1494 - accuracy: 0.6068\n",
      "Epoch 73/110\n",
      "446/446 [==============================] - 11s 24ms/step - loss: 2.1257 - accuracy: 0.6135\n",
      "Epoch 74/110\n",
      "446/446 [==============================] - 11s 24ms/step - loss: 2.0924 - accuracy: 0.6220\n",
      "Epoch 75/110\n",
      "446/446 [==============================] - 11s 25ms/step - loss: 2.0726 - accuracy: 0.6252\n",
      "Epoch 76/110\n",
      "446/446 [==============================] - 11s 24ms/step - loss: 2.0520 - accuracy: 0.6235\n",
      "Epoch 77/110\n",
      "446/446 [==============================] - 10s 23ms/step - loss: 2.0385 - accuracy: 0.6282\n",
      "Epoch 78/110\n",
      "446/446 [==============================] - 10s 23ms/step - loss: 2.0082 - accuracy: 0.6377\n",
      "Epoch 79/110\n",
      "446/446 [==============================] - 10s 23ms/step - loss: 1.9752 - accuracy: 0.6417\n",
      "Epoch 80/110\n"
     ]
    },
    {
     "name": "stdout",
     "output_type": "stream",
     "text": [
      "446/446 [==============================] - 10s 23ms/step - loss: 1.9620 - accuracy: 0.6453\n",
      "Epoch 81/110\n",
      "446/446 [==============================] - 10s 23ms/step - loss: 1.9402 - accuracy: 0.6471\n",
      "Epoch 82/110\n",
      "446/446 [==============================] - 10s 23ms/step - loss: 1.9151 - accuracy: 0.6560\n",
      "Epoch 83/110\n",
      "446/446 [==============================] - 10s 23ms/step - loss: 1.8915 - accuracy: 0.6587\n",
      "Epoch 84/110\n",
      "446/446 [==============================] - 10s 23ms/step - loss: 1.8706 - accuracy: 0.6656\n",
      "Epoch 85/110\n",
      "446/446 [==============================] - 10s 23ms/step - loss: 1.8566 - accuracy: 0.6685\n",
      "Epoch 86/110\n",
      "446/446 [==============================] - 10s 23ms/step - loss: 1.8228 - accuracy: 0.6746\n",
      "Epoch 87/110\n",
      "446/446 [==============================] - 10s 23ms/step - loss: 1.8082 - accuracy: 0.6723\n",
      "Epoch 88/110\n",
      "446/446 [==============================] - 10s 23ms/step - loss: 1.7972 - accuracy: 0.6770\n",
      "Epoch 89/110\n",
      "446/446 [==============================] - 10s 23ms/step - loss: 1.7783 - accuracy: 0.6830\n",
      "Epoch 90/110\n",
      "446/446 [==============================] - 10s 23ms/step - loss: 1.7464 - accuracy: 0.6873\n",
      "Epoch 91/110\n",
      "446/446 [==============================] - 10s 23ms/step - loss: 1.7566 - accuracy: 0.6852\n",
      "Epoch 92/110\n",
      "446/446 [==============================] - 10s 23ms/step - loss: 1.7166 - accuracy: 0.6992\n",
      "Epoch 93/110\n",
      "446/446 [==============================] - 10s 23ms/step - loss: 1.6982 - accuracy: 0.6971\n",
      "Epoch 94/110\n",
      "446/446 [==============================] - 10s 23ms/step - loss: 1.6838 - accuracy: 0.6990\n",
      "Epoch 95/110\n",
      "446/446 [==============================] - 10s 23ms/step - loss: 1.6805 - accuracy: 0.6991\n",
      "Epoch 96/110\n",
      "446/446 [==============================] - 10s 23ms/step - loss: 1.6608 - accuracy: 0.7051\n",
      "Epoch 97/110\n",
      "446/446 [==============================] - 10s 23ms/step - loss: 1.6519 - accuracy: 0.7044\n",
      "Epoch 98/110\n",
      "446/446 [==============================] - 10s 23ms/step - loss: 1.6870 - accuracy: 0.6967\n",
      "Epoch 99/110\n",
      "446/446 [==============================] - 10s 23ms/step - loss: 1.6680 - accuracy: 0.6991\n",
      "Epoch 100/110\n",
      "446/446 [==============================] - 10s 23ms/step - loss: 1.6061 - accuracy: 0.7130\n",
      "Epoch 101/110\n",
      "446/446 [==============================] - 10s 23ms/step - loss: 1.5847 - accuracy: 0.7171\n",
      "Epoch 102/110\n",
      "446/446 [==============================] - 10s 23ms/step - loss: 1.5644 - accuracy: 0.7233\n",
      "Epoch 103/110\n",
      "446/446 [==============================] - 10s 23ms/step - loss: 1.5442 - accuracy: 0.7269\n",
      "Epoch 104/110\n",
      "446/446 [==============================] - 10s 23ms/step - loss: 1.5349 - accuracy: 0.7280\n",
      "Epoch 105/110\n",
      "446/446 [==============================] - 10s 23ms/step - loss: 1.5099 - accuracy: 0.7355\n",
      "Epoch 106/110\n",
      "446/446 [==============================] - 10s 23ms/step - loss: 1.4995 - accuracy: 0.7369\n",
      "Epoch 107/110\n",
      "446/446 [==============================] - 10s 23ms/step - loss: 1.4881 - accuracy: 0.7350\n",
      "Epoch 108/110\n",
      "446/446 [==============================] - 10s 23ms/step - loss: 1.4869 - accuracy: 0.7373\n",
      "Epoch 109/110\n",
      "446/446 [==============================] - 10s 23ms/step - loss: 1.4823 - accuracy: 0.7368\n",
      "Epoch 110/110\n",
      "446/446 [==============================] - 10s 23ms/step - loss: 1.4627 - accuracy: 0.7405\n"
     ]
    }
   ],
   "source": [
    " history = model.fit(predictors, label, epochs=110, verbose=1)"
   ]
  },
  {
   "cell_type": "code",
   "execution_count": 10,
   "metadata": {
    "id": "zcwAFvYfQAPL"
   },
   "outputs": [
    {
     "data": {
      "image/png": "[encoded data removed]",
      "text/plain": [
       "<Figure size 432x288 with 1 Axes>"
      ]
     },
     "metadata": {
      "needs_background": "light"
     },
     "output_type": "display_data"
    },
    {
     "data": {
      "image/png": "[encoded data removed]",
      "text/plain": [
       "<Figure size 432x288 with 1 Axes>"
      ]
     },
     "metadata": {
      "needs_background": "light"
     },
     "output_type": "display_data"
    }
   ],
   "source": [
    "plot_history(history)"
   ]
  },
  {
   "cell_type": "code",
   "execution_count": 9,
   "metadata": {},
   "outputs": [],
   "source": [
    "save_variable('modern_nature_max_sequence_len',max_sequence_len)"
   ]
  },
  {
   "cell_type": "code",
   "execution_count": 12,
   "metadata": {
    "id": "exhnjvgROUDB"
   },
   "outputs": [
    {
     "ename": "NameError",
     "evalue": "name 'model' is not defined",
     "output_type": "error",
     "traceback": [
      "\u001b[1;31m---------------------------------------------------------------------------\u001b[0m",
      "\u001b[1;31mNameError\u001b[0m                                 Traceback (most recent call last)",
      "\u001b[1;32m<ipython-input-12-abb8c491ce32>\u001b[0m in \u001b[0;36m<module>\u001b[1;34m\u001b[0m\n\u001b[1;32m----> 1\u001b[1;33m \u001b[0mmodel\u001b[0m\u001b[1;33m.\u001b[0m\u001b[0msave\u001b[0m\u001b[1;33m(\u001b[0m\u001b[1;34m'modern_nature.h5'\u001b[0m\u001b[1;33m)\u001b[0m\u001b[1;33m\u001b[0m\u001b[1;33m\u001b[0m\u001b[0m\n\u001b[0m\u001b[0;32m      2\u001b[0m \u001b[0msave_variable\u001b[0m\u001b[1;33m(\u001b[0m\u001b[1;34m'modern_nature_tokenizer'\u001b[0m\u001b[1;33m)\u001b[0m\u001b[1;33m\u001b[0m\u001b[1;33m\u001b[0m\u001b[0m\n\u001b[0;32m      3\u001b[0m \u001b[0msave_variable\u001b[0m\u001b[1;33m(\u001b[0m\u001b[1;34m'modern_nature_max_sequence_len'\u001b[0m\u001b[1;33m)\u001b[0m\u001b[1;33m\u001b[0m\u001b[1;33m\u001b[0m\u001b[0m\n\u001b[0;32m      4\u001b[0m \u001b[1;33m\u001b[0m\u001b[0m\n\u001b[0;32m      5\u001b[0m \u001b[1;32mdel\u001b[0m \u001b[0mcorpus\u001b[0m\u001b[1;33m\u001b[0m\u001b[1;33m\u001b[0m\u001b[0m\n",
      "\u001b[1;31mNameError\u001b[0m: name 'model' is not defined"
     ]
    }
   ],
   "source": [
    "model.save('modern_nature.h5')\n",
    "save_variable('modern_nature_tokenizer',tokenizer)\n",
    "save_variable('modern_nature_max_sequence_len',max_sequence_len)\n",
    "\n",
    "del corpus\n",
    "del model\n",
    "del predictors\n",
    "del label"
   ]
  },
  {
   "cell_type": "code",
   "execution_count": 13,
   "metadata": {},
   "outputs": [],
   "source": [
    "del label"
   ]
  },
  {
   "cell_type": "code",
   "execution_count": 10,
   "metadata": {
    "id": "aM2hH9FCOiqS"
   },
   "outputs": [
    {
     "name": "stdout",
     "output_type": "stream",
     "text": [
      "Model: \"sequential_1\"\n",
      "_________________________________________________________________\n",
      "Layer (type)                 Output Shape              Param #   \n",
      "=================================================================\n",
      "embedding_1 (Embedding)      (None, 26, 128)           740480    \n",
      "_________________________________________________________________\n",
      "bidirectional_1 (Bidirection (None, 26, 240)           239040    \n",
      "_________________________________________________________________\n",
      "dropout_1 (Dropout)          (None, 26, 240)           0         \n",
      "_________________________________________________________________\n",
      "lstm_3 (LSTM)                (None, 96)                129408    \n",
      "_________________________________________________________________\n",
      "dense_2 (Dense)              (None, 2892)              280524    \n",
      "_________________________________________________________________\n",
      "dense_3 (Dense)              (None, 5785)              16736005  \n",
      "=================================================================\n",
      "Total params: 18,125,457\n",
      "Trainable params: 18,125,457\n",
      "Non-trainable params: 0\n",
      "_________________________________________________________________\n",
      "None\n"
     ]
    }
   ],
   "source": [
    "corpus = []\n",
    "for line in renaissance_love:\n",
    "  corpus.extend(line.lower().split('\\r\\n'))\n",
    "\n",
    "tokenizer,total_words,max_sequence_len,predictors,label  = prepare_data(corpus)\n",
    "\n",
    "model = make_model(total_words,max_sequence_len)\n",
    "print(model.summary())"
   ]
  },
  {
   "cell_type": "code",
   "execution_count": 15,
   "metadata": {
    "id": "0VreS8J2Oin8"
   },
   "outputs": [
    {
     "name": "stdout",
     "output_type": "stream",
     "text": [
      "Epoch 1/100\n",
      "1023/1023 [==============================] - 14s 14ms/step - loss: 7.0968 - accuracy: 0.0233\n",
      "Epoch 2/100\n",
      "1023/1023 [==============================] - 14s 14ms/step - loss: 6.7738 - accuracy: 0.0255\n",
      "Epoch 3/100\n",
      "1023/1023 [==============================] - 14s 14ms/step - loss: 6.6287 - accuracy: 0.0299\n",
      "Epoch 4/100\n",
      "1023/1023 [==============================] - 14s 13ms/step - loss: 6.5275 - accuracy: 0.0320\n",
      "Epoch 5/100\n",
      "1023/1023 [==============================] - 13s 13ms/step - loss: 6.4472 - accuracy: 0.0336\n",
      "Epoch 6/100\n",
      "1023/1023 [==============================] - 14s 13ms/step - loss: 6.3770 - accuracy: 0.0354\n",
      "Epoch 7/100\n",
      "1023/1023 [==============================] - 14s 14ms/step - loss: 6.3118 - accuracy: 0.0371\n",
      "Epoch 8/100\n",
      "1023/1023 [==============================] - 14s 14ms/step - loss: 6.2422 - accuracy: 0.0395\n",
      "Epoch 9/100\n",
      "1023/1023 [==============================] - 15s 14ms/step - loss: 6.1681 - accuracy: 0.0422\n",
      "Epoch 10/100\n",
      "1023/1023 [==============================] - 15s 14ms/step - loss: 6.0874 - accuracy: 0.0446\n",
      "Epoch 11/100\n",
      "1023/1023 [==============================] - 15s 15ms/step - loss: 6.0026 - accuracy: 0.0492\n",
      "Epoch 12/100\n",
      "1023/1023 [==============================] - 15s 15ms/step - loss: 5.9145 - accuracy: 0.0542\n",
      "Epoch 13/100\n",
      "1023/1023 [==============================] - 15s 15ms/step - loss: 5.8257 - accuracy: 0.0596\n",
      "Epoch 14/100\n",
      "1023/1023 [==============================] - 16s 16ms/step - loss: 5.7343 - accuracy: 0.0670\n",
      "Epoch 15/100\n",
      "1023/1023 [==============================] - 16s 16ms/step - loss: 5.6448 - accuracy: 0.0724\n",
      "Epoch 16/100\n",
      "1023/1023 [==============================] - 16s 16ms/step - loss: 5.5560 - accuracy: 0.0759\n",
      "Epoch 17/100\n",
      "1023/1023 [==============================] - 16s 16ms/step - loss: 5.4692 - accuracy: 0.0796\n",
      "Epoch 18/100\n",
      "1023/1023 [==============================] - 16s 16ms/step - loss: 5.3827 - accuracy: 0.0855\n",
      "Epoch 19/100\n",
      "1023/1023 [==============================] - 16s 16ms/step - loss: 5.3026 - accuracy: 0.0896\n",
      "Epoch 20/100\n",
      "1023/1023 [==============================] - 17s 16ms/step - loss: 5.2111 - accuracy: 0.0960\n",
      "Epoch 21/100\n",
      "1023/1023 [==============================] - 18s 17ms/step - loss: 5.1287 - accuracy: 0.1010\n",
      "Epoch 22/100\n",
      "1023/1023 [==============================] - 17s 17ms/step - loss: 5.0492 - accuracy: 0.1084\n",
      "Epoch 23/100\n",
      "1023/1023 [==============================] - 17s 17ms/step - loss: 4.9641 - accuracy: 0.1160\n",
      "Epoch 24/100\n",
      "1023/1023 [==============================] - 18s 18ms/step - loss: 4.8818 - accuracy: 0.1232\n",
      "Epoch 25/100\n",
      "1023/1023 [==============================] - 18s 18ms/step - loss: 4.8014 - accuracy: 0.1330\n",
      "Epoch 26/100\n",
      "1023/1023 [==============================] - 17s 17ms/step - loss: 4.7237 - accuracy: 0.1383\n",
      "Epoch 27/100\n",
      "1023/1023 [==============================] - 18s 17ms/step - loss: 4.6473 - accuracy: 0.1451\n",
      "Epoch 28/100\n",
      "1023/1023 [==============================] - 17s 16ms/step - loss: 4.5706 - accuracy: 0.1540\n",
      "Epoch 29/100\n",
      "1023/1023 [==============================] - 17s 17ms/step - loss: 4.4891 - accuracy: 0.1618\n",
      "Epoch 30/100\n",
      "1023/1023 [==============================] - 17s 17ms/step - loss: 4.4262 - accuracy: 0.1713\n",
      "Epoch 31/100\n",
      "1023/1023 [==============================] - 17s 17ms/step - loss: 4.3515 - accuracy: 0.18010s - loss: 4.3515 - accuracy: 0.18\n",
      "Epoch 32/100\n",
      "1023/1023 [==============================] - 18s 17ms/step - loss: 4.2816 - accuracy: 0.1919\n",
      "Epoch 33/100\n",
      "1023/1023 [==============================] - 18s 17ms/step - loss: 4.2209 - accuracy: 0.2012\n",
      "Epoch 34/100\n",
      "1023/1023 [==============================] - 18s 17ms/step - loss: 4.1538 - accuracy: 0.2103\n",
      "Epoch 35/100\n",
      "1023/1023 [==============================] - 18s 17ms/step - loss: 4.0898 - accuracy: 0.2223\n",
      "Epoch 36/100\n",
      "1023/1023 [==============================] - 18s 17ms/step - loss: 4.0297 - accuracy: 0.2299\n",
      "Epoch 37/100\n",
      "1023/1023 [==============================] - 18s 18ms/step - loss: 3.9711 - accuracy: 0.2434\n",
      "Epoch 38/100\n",
      "1023/1023 [==============================] - 18s 17ms/step - loss: 3.9153 - accuracy: 0.2508\n",
      "Epoch 39/100\n",
      "1023/1023 [==============================] - 18s 17ms/step - loss: 3.8554 - accuracy: 0.2622\n",
      "Epoch 40/100\n",
      "1023/1023 [==============================] - 18s 17ms/step - loss: 3.8117 - accuracy: 0.2704\n",
      "Epoch 41/100\n",
      "1023/1023 [==============================] - 18s 17ms/step - loss: 3.7547 - accuracy: 0.2832\n",
      "Epoch 42/100\n",
      "1023/1023 [==============================] - 18s 17ms/step - loss: 3.7000 - accuracy: 0.2899\n",
      "Epoch 43/100\n",
      "1023/1023 [==============================] - 18s 18ms/step - loss: 3.6485 - accuracy: 0.3011\n",
      "Epoch 44/100\n",
      "1023/1023 [==============================] - 18s 18ms/step - loss: 3.5981 - accuracy: 0.3126\n",
      "Epoch 45/100\n",
      "1023/1023 [==============================] - 18s 17ms/step - loss: 3.5558 - accuracy: 0.3201\n",
      "Epoch 46/100\n",
      "1023/1023 [==============================] - 18s 17ms/step - loss: 3.5084 - accuracy: 0.32690s - loss: 3.5061 - accura\n",
      "Epoch 47/100\n",
      "1023/1023 [==============================] - 18s 18ms/step - loss: 3.4684 - accuracy: 0.3346\n",
      "Epoch 48/100\n",
      "1023/1023 [==============================] - 18s 18ms/step - loss: 3.4105 - accuracy: 0.3429\n",
      "Epoch 49/100\n",
      "1023/1023 [==============================] - 18s 17ms/step - loss: 3.3798 - accuracy: 0.3504\n",
      "Epoch 50/100\n",
      "1023/1023 [==============================] - 18s 17ms/step - loss: 3.3367 - accuracy: 0.3597\n",
      "Epoch 51/100\n",
      "1023/1023 [==============================] - 18s 18ms/step - loss: 3.2922 - accuracy: 0.3693\n",
      "Epoch 52/100\n",
      "1023/1023 [==============================] - 18s 18ms/step - loss: 3.2583 - accuracy: 0.3736\n",
      "Epoch 53/100\n",
      "1023/1023 [==============================] - 18s 18ms/step - loss: 3.2108 - accuracy: 0.3840\n",
      "Epoch 54/100\n",
      "1023/1023 [==============================] - 18s 18ms/step - loss: 3.1709 - accuracy: 0.3937\n",
      "Epoch 55/100\n",
      "1023/1023 [==============================] - 18s 18ms/step - loss: 3.1375 - accuracy: 0.3979\n",
      "Epoch 56/100\n",
      "1023/1023 [==============================] - 18s 18ms/step - loss: 3.1037 - accuracy: 0.4045\n",
      "Epoch 57/100\n",
      "1023/1023 [==============================] - 18s 18ms/step - loss: 3.0696 - accuracy: 0.4119\n",
      "Epoch 58/100\n",
      "1023/1023 [==============================] - 18s 18ms/step - loss: 3.0363 - accuracy: 0.4187\n",
      "Epoch 59/100\n",
      "1023/1023 [==============================] - 18s 18ms/step - loss: 2.9995 - accuracy: 0.4245\n",
      "Epoch 60/100\n",
      "1023/1023 [==============================] - 18s 18ms/step - loss: 2.9621 - accuracy: 0.4341\n",
      "Epoch 61/100\n",
      "1023/1023 [==============================] - 18s 17ms/step - loss: 2.9374 - accuracy: 0.4363\n",
      "Epoch 62/100\n",
      "1023/1023 [==============================] - 18s 18ms/step - loss: 2.8990 - accuracy: 0.4472\n",
      "Epoch 63/100\n",
      "1023/1023 [==============================] - 18s 18ms/step - loss: 2.8741 - accuracy: 0.4507\n",
      "Epoch 64/100\n",
      "1023/1023 [==============================] - 18s 18ms/step - loss: 2.8279 - accuracy: 0.4589\n",
      "Epoch 65/100\n",
      "1023/1023 [==============================] - 18s 18ms/step - loss: 2.8039 - accuracy: 0.4677\n",
      "Epoch 66/100\n",
      "1023/1023 [==============================] - 18s 18ms/step - loss: 2.7737 - accuracy: 0.4672\n",
      "Epoch 67/100\n",
      "1023/1023 [==============================] - 18s 18ms/step - loss: 2.7481 - accuracy: 0.4736\n",
      "Epoch 68/100\n",
      "1023/1023 [==============================] - 18s 18ms/step - loss: 2.7198 - accuracy: 0.4823\n",
      "Epoch 69/100\n",
      "1023/1023 [==============================] - 18s 18ms/step - loss: 2.6875 - accuracy: 0.4899\n",
      "Epoch 70/100\n",
      "1023/1023 [==============================] - 18s 18ms/step - loss: 2.6761 - accuracy: 0.4905\n",
      "Epoch 71/100\n",
      "1023/1023 [==============================] - 18s 18ms/step - loss: 2.6357 - accuracy: 0.4971\n",
      "Epoch 72/100\n",
      "1023/1023 [==============================] - 18s 18ms/step - loss: 2.6216 - accuracy: 0.5004\n",
      "Epoch 73/100\n",
      "1023/1023 [==============================] - 18s 18ms/step - loss: 2.5820 - accuracy: 0.5103\n",
      "Epoch 74/100\n",
      "1023/1023 [==============================] - 18s 18ms/step - loss: 2.5692 - accuracy: 0.5115\n",
      "Epoch 75/100\n",
      "1023/1023 [==============================] - 18s 18ms/step - loss: 2.5407 - accuracy: 0.5172\n",
      "Epoch 76/100\n",
      "1023/1023 [==============================] - 19s 18ms/step - loss: 2.5254 - accuracy: 0.5202\n",
      "Epoch 77/100\n"
     ]
    },
    {
     "name": "stdout",
     "output_type": "stream",
     "text": [
      "1023/1023 [==============================] - 18s 18ms/step - loss: 2.4984 - accuracy: 0.5237\n",
      "Epoch 78/100\n",
      "1023/1023 [==============================] - 18s 18ms/step - loss: 2.4586 - accuracy: 0.5331\n",
      "Epoch 79/100\n",
      "1023/1023 [==============================] - 18s 18ms/step - loss: 2.4489 - accuracy: 0.5356\n",
      "Epoch 80/100\n",
      "1023/1023 [==============================] - 18s 18ms/step - loss: 2.4275 - accuracy: 0.5383\n",
      "Epoch 81/100\n",
      "1023/1023 [==============================] - 18s 17ms/step - loss: 2.4041 - accuracy: 0.5433\n",
      "Epoch 82/100\n",
      "1023/1023 [==============================] - 18s 17ms/step - loss: 2.3904 - accuracy: 0.5461\n",
      "Epoch 83/100\n",
      "1023/1023 [==============================] - 18s 18ms/step - loss: 2.3628 - accuracy: 0.5539\n",
      "Epoch 84/100\n",
      "1023/1023 [==============================] - 18s 18ms/step - loss: 2.3582 - accuracy: 0.5499\n",
      "Epoch 85/100\n",
      "1023/1023 [==============================] - 18s 18ms/step - loss: 2.3305 - accuracy: 0.5562\n",
      "Epoch 86/100\n",
      "1023/1023 [==============================] - 18s 17ms/step - loss: 2.3172 - accuracy: 0.5617\n",
      "Epoch 87/100\n",
      "1023/1023 [==============================] - 18s 18ms/step - loss: 2.2858 - accuracy: 0.5681\n",
      "Epoch 88/100\n",
      "1023/1023 [==============================] - 18s 18ms/step - loss: 2.2725 - accuracy: 0.5700\n",
      "Epoch 89/100\n",
      "1023/1023 [==============================] - 18s 18ms/step - loss: 2.2539 - accuracy: 0.5737\n",
      "Epoch 90/100\n",
      "1023/1023 [==============================] - 18s 18ms/step - loss: 2.2376 - accuracy: 0.5768\n",
      "Epoch 91/100\n",
      "1023/1023 [==============================] - 18s 18ms/step - loss: 2.2254 - accuracy: 0.5793\n",
      "Epoch 92/100\n",
      "1023/1023 [==============================] - 18s 18ms/step - loss: 2.1975 - accuracy: 0.5850\n",
      "Epoch 93/100\n",
      "1023/1023 [==============================] - 18s 18ms/step - loss: 2.1899 - accuracy: 0.5832\n",
      "Epoch 94/100\n",
      "1023/1023 [==============================] - 18s 18ms/step - loss: 2.1676 - accuracy: 0.5925\n",
      "Epoch 95/100\n",
      "1023/1023 [==============================] - 18s 18ms/step - loss: 2.1502 - accuracy: 0.5955\n",
      "Epoch 96/100\n",
      "1023/1023 [==============================] - 19s 18ms/step - loss: 2.1465 - accuracy: 0.5922\n",
      "Epoch 97/100\n",
      "1023/1023 [==============================] - 18s 18ms/step - loss: 2.1181 - accuracy: 0.6009\n",
      "Epoch 98/100\n",
      "1023/1023 [==============================] - 18s 18ms/step - loss: 2.1013 - accuracy: 0.6029\n",
      "Epoch 99/100\n",
      "1023/1023 [==============================] - 18s 18ms/step - loss: 2.0992 - accuracy: 0.6040\n",
      "Epoch 100/100\n",
      "1023/1023 [==============================] - 19s 18ms/step - loss: 2.0805 - accuracy: 0.6061\n"
     ]
    }
   ],
   "source": [
    " history = model.fit(predictors, label, epochs=100, verbose=1)"
   ]
  },
  {
   "cell_type": "code",
   "execution_count": 16,
   "metadata": {
    "id": "2fBfqKVlQDpd"
   },
   "outputs": [
    {
     "data": {
      "image/png": "[encoded data removed]",
      "text/plain": [
       "<Figure size 432x288 with 1 Axes>"
      ]
     },
     "metadata": {
      "needs_background": "light"
     },
     "output_type": "display_data"
    },
    {
     "data": {
      "image/png": "[encoded data removed]",
      "text/plain": [
       "<Figure size 432x288 with 1 Axes>"
      ]
     },
     "metadata": {
      "needs_background": "light"
     },
     "output_type": "display_data"
    }
   ],
   "source": [
    "plot_history(history)"
   ]
  },
  {
   "cell_type": "code",
   "execution_count": 11,
   "metadata": {},
   "outputs": [],
   "source": [
    "save_variable('renaissance_love_max_sequence_len',max_sequence_len)"
   ]
  },
  {
   "cell_type": "code",
   "execution_count": 17,
   "metadata": {
    "id": "g8ZrjmqWOilC"
   },
   "outputs": [],
   "source": [
    "model.save('renaissance_love.h5')\n",
    "save_variable('renaissance_love_tokenizer')\n",
    "save_variable('renaissance_love_max_sequence_len',max_sequence_len)\n",
    "\n",
    "del corpus\n",
    "del model\n",
    "del predictors\n",
    "del label"
   ]
  },
  {
   "cell_type": "code",
   "execution_count": 12,
   "metadata": {
    "id": "NqhgZMP8Oia0"
   },
   "outputs": [
    {
     "name": "stdout",
     "output_type": "stream",
     "text": [
      "Model: \"sequential_2\"\n",
      "_________________________________________________________________\n",
      "Layer (type)                 Output Shape              Param #   \n",
      "=================================================================\n",
      "embedding_2 (Embedding)      (None, 52, 128)           353408    \n",
      "_________________________________________________________________\n",
      "bidirectional_2 (Bidirection (None, 52, 240)           239040    \n",
      "_________________________________________________________________\n",
      "dropout_2 (Dropout)          (None, 52, 240)           0         \n",
      "_________________________________________________________________\n",
      "lstm_5 (LSTM)                (None, 96)                129408    \n",
      "_________________________________________________________________\n",
      "dense_4 (Dense)              (None, 1380)              133860    \n",
      "_________________________________________________________________\n",
      "dense_5 (Dense)              (None, 2761)              3812941   \n",
      "=================================================================\n",
      "Total params: 4,668,657\n",
      "Trainable params: 4,668,657\n",
      "Non-trainable params: 0\n",
      "_________________________________________________________________\n",
      "None\n"
     ]
    }
   ],
   "source": [
    "corpus = []\n",
    "for line in modern_love:\n",
    "  corpus.extend(line.lower().split('\\r\\n'))\n",
    "\n",
    "tokenizer,total_words,max_sequence_len,predictors,label  = prepare_data(corpus)\n",
    "\n",
    "model = make_model(total_words,max_sequence_len)\n",
    "print(model.summary())"
   ]
  },
  {
   "cell_type": "code",
   "execution_count": 19,
   "metadata": {
    "id": "iseanzDBPkN6"
   },
   "outputs": [
    {
     "name": "stdout",
     "output_type": "stream",
     "text": [
      "Epoch 1/100\n",
      "291/291 [==============================] - 5s 17ms/step - loss: 7.1083 - accuracy: 0.0555\n",
      "Epoch 2/100\n",
      "291/291 [==============================] - 5s 17ms/step - loss: 6.5124 - accuracy: 0.0579\n",
      "Epoch 3/100\n",
      "291/291 [==============================] - 5s 17ms/step - loss: 6.3289 - accuracy: 0.0598\n",
      "Epoch 4/100\n",
      "291/291 [==============================] - 5s 17ms/step - loss: 6.1891 - accuracy: 0.0700\n",
      "Epoch 5/100\n",
      "291/291 [==============================] - 5s 17ms/step - loss: 6.0888 - accuracy: 0.0721\n",
      "Epoch 6/100\n",
      "291/291 [==============================] - 5s 18ms/step - loss: 5.9938 - accuracy: 0.0792\n",
      "Epoch 7/100\n",
      "291/291 [==============================] - 5s 18ms/step - loss: 5.9080 - accuracy: 0.0839\n",
      "Epoch 8/100\n",
      "291/291 [==============================] - 5s 17ms/step - loss: 5.8130 - accuracy: 0.0890\n",
      "Epoch 9/100\n",
      "291/291 [==============================] - 5s 18ms/step - loss: 5.7186 - accuracy: 0.0887\n",
      "Epoch 10/100\n",
      "291/291 [==============================] - 5s 18ms/step - loss: 5.6421 - accuracy: 0.0908\n",
      "Epoch 11/100\n",
      "291/291 [==============================] - 6s 20ms/step - loss: 5.5541 - accuracy: 0.0960\n",
      "Epoch 12/100\n",
      "291/291 [==============================] - 5s 17ms/step - loss: 5.4689 - accuracy: 0.0962\n",
      "Epoch 13/100\n",
      "291/291 [==============================] - 5s 17ms/step - loss: 5.3921 - accuracy: 0.1037\n",
      "Epoch 14/100\n",
      "291/291 [==============================] - 5s 17ms/step - loss: 5.3148 - accuracy: 0.1103\n",
      "Epoch 15/100\n",
      "291/291 [==============================] - 5s 17ms/step - loss: 5.2325 - accuracy: 0.1155\n",
      "Epoch 16/100\n",
      "291/291 [==============================] - 5s 18ms/step - loss: 5.1503 - accuracy: 0.1201\n",
      "Epoch 17/100\n",
      "291/291 [==============================] - 5s 18ms/step - loss: 5.0802 - accuracy: 0.1239\n",
      "Epoch 18/100\n",
      "291/291 [==============================] - 5s 17ms/step - loss: 5.0039 - accuracy: 0.1278\n",
      "Epoch 19/100\n",
      "291/291 [==============================] - 5s 18ms/step - loss: 4.9309 - accuracy: 0.1332\n",
      "Epoch 20/100\n",
      "291/291 [==============================] - 5s 19ms/step - loss: 4.8618 - accuracy: 0.1381\n",
      "Epoch 21/100\n",
      "291/291 [==============================] - 5s 18ms/step - loss: 4.7730 - accuracy: 0.1436\n",
      "Epoch 22/100\n",
      "291/291 [==============================] - 5s 17ms/step - loss: 4.6987 - accuracy: 0.1508\n",
      "Epoch 23/100\n",
      "291/291 [==============================] - 5s 18ms/step - loss: 4.6337 - accuracy: 0.1552\n",
      "Epoch 24/100\n",
      "291/291 [==============================] - 5s 17ms/step - loss: 4.5579 - accuracy: 0.1618\n",
      "Epoch 25/100\n",
      "291/291 [==============================] - 5s 19ms/step - loss: 4.4887 - accuracy: 0.1682\n",
      "Epoch 26/100\n",
      "291/291 [==============================] - 5s 18ms/step - loss: 4.4153 - accuracy: 0.1719\n",
      "Epoch 27/100\n",
      "291/291 [==============================] - 5s 18ms/step - loss: 4.3412 - accuracy: 0.1794\n",
      "Epoch 28/100\n",
      "291/291 [==============================] - 5s 17ms/step - loss: 4.2888 - accuracy: 0.1844\n",
      "Epoch 29/100\n",
      "291/291 [==============================] - 5s 18ms/step - loss: 4.2390 - accuracy: 0.1920\n",
      "Epoch 30/100\n",
      "291/291 [==============================] - 5s 17ms/step - loss: 4.1580 - accuracy: 0.1974\n",
      "Epoch 31/100\n",
      "291/291 [==============================] - 5s 18ms/step - loss: 4.1582 - accuracy: 0.2016\n",
      "Epoch 32/100\n",
      "291/291 [==============================] - 5s 18ms/step - loss: 4.0833 - accuracy: 0.2061\n",
      "Epoch 33/100\n",
      "291/291 [==============================] - 5s 18ms/step - loss: 3.9872 - accuracy: 0.2159\n",
      "Epoch 34/100\n",
      "291/291 [==============================] - 5s 19ms/step - loss: 3.9591 - accuracy: 0.2190\n",
      "Epoch 35/100\n",
      "291/291 [==============================] - 5s 18ms/step - loss: 3.8901 - accuracy: 0.2302\n",
      "Epoch 36/100\n",
      "291/291 [==============================] - 5s 18ms/step - loss: 3.8206 - accuracy: 0.2336\n",
      "Epoch 37/100\n",
      "291/291 [==============================] - 5s 18ms/step - loss: 3.7525 - accuracy: 0.2498\n",
      "Epoch 38/100\n",
      "291/291 [==============================] - 5s 18ms/step - loss: 3.6936 - accuracy: 0.2546\n",
      "Epoch 39/100\n",
      "291/291 [==============================] - 5s 18ms/step - loss: 3.6436 - accuracy: 0.2641\n",
      "Epoch 40/100\n",
      "291/291 [==============================] - 5s 19ms/step - loss: 3.6040 - accuracy: 0.2712\n",
      "Epoch 41/100\n",
      "291/291 [==============================] - 5s 18ms/step - loss: 3.5458 - accuracy: 0.2783\n",
      "Epoch 42/100\n",
      "291/291 [==============================] - 5s 17ms/step - loss: 3.4988 - accuracy: 0.2858\n",
      "Epoch 43/100\n",
      "291/291 [==============================] - 5s 18ms/step - loss: 3.4394 - accuracy: 0.2969\n",
      "Epoch 44/100\n",
      "291/291 [==============================] - 5s 18ms/step - loss: 3.4345 - accuracy: 0.2954\n",
      "Epoch 45/100\n",
      "291/291 [==============================] - 5s 18ms/step - loss: 3.3630 - accuracy: 0.3136\n",
      "Epoch 46/100\n",
      "291/291 [==============================] - 5s 18ms/step - loss: 3.3266 - accuracy: 0.3215\n",
      "Epoch 47/100\n",
      "291/291 [==============================] - 5s 18ms/step - loss: 3.3559 - accuracy: 0.3159\n",
      "Epoch 48/100\n",
      "291/291 [==============================] - 5s 18ms/step - loss: 3.2515 - accuracy: 0.3344\n",
      "Epoch 49/100\n",
      "291/291 [==============================] - 5s 18ms/step - loss: 3.1995 - accuracy: 0.3487\n",
      "Epoch 50/100\n",
      "291/291 [==============================] - 5s 17ms/step - loss: 3.1546 - accuracy: 0.3553\n",
      "Epoch 51/100\n",
      "291/291 [==============================] - 5s 18ms/step - loss: 3.1050 - accuracy: 0.3609\n",
      "Epoch 52/100\n",
      "291/291 [==============================] - 5s 17ms/step - loss: 3.0821 - accuracy: 0.3701\n",
      "Epoch 53/100\n",
      "291/291 [==============================] - 5s 16ms/step - loss: 3.0820 - accuracy: 0.3654\n",
      "Epoch 54/100\n",
      "291/291 [==============================] - 5s 17ms/step - loss: 3.0121 - accuracy: 0.3801\n",
      "Epoch 55/100\n",
      "291/291 [==============================] - 5s 17ms/step - loss: 2.9474 - accuracy: 0.3980\n",
      "Epoch 56/100\n",
      "291/291 [==============================] - 5s 18ms/step - loss: 2.8998 - accuracy: 0.4076\n",
      "Epoch 57/100\n",
      "291/291 [==============================] - 5s 18ms/step - loss: 2.8665 - accuracy: 0.4163\n",
      "Epoch 58/100\n",
      "291/291 [==============================] - 5s 18ms/step - loss: 2.9102 - accuracy: 0.4047\n",
      "Epoch 59/100\n",
      "291/291 [==============================] - 5s 17ms/step - loss: 2.8834 - accuracy: 0.4123\n",
      "Epoch 60/100\n",
      "291/291 [==============================] - 5s 17ms/step - loss: 2.8073 - accuracy: 0.4271\n",
      "Epoch 61/100\n",
      "291/291 [==============================] - 5s 17ms/step - loss: 2.7473 - accuracy: 0.4378\n",
      "Epoch 62/100\n",
      "291/291 [==============================] - 5s 17ms/step - loss: 2.7805 - accuracy: 0.4366\n",
      "Epoch 63/100\n",
      "291/291 [==============================] - 5s 16ms/step - loss: 2.7266 - accuracy: 0.4443\n",
      "Epoch 64/100\n",
      "291/291 [==============================] - 5s 16ms/step - loss: 2.6601 - accuracy: 0.4637\n",
      "Epoch 65/100\n",
      "291/291 [==============================] - 5s 16ms/step - loss: 2.6172 - accuracy: 0.4674\n",
      "Epoch 66/100\n",
      "291/291 [==============================] - 5s 17ms/step - loss: 2.5979 - accuracy: 0.4747\n",
      "Epoch 67/100\n",
      "291/291 [==============================] - 5s 17ms/step - loss: 2.5661 - accuracy: 0.4817\n",
      "Epoch 68/100\n",
      "291/291 [==============================] - 5s 16ms/step - loss: 2.5195 - accuracy: 0.4948\n",
      "Epoch 69/100\n",
      "291/291 [==============================] - 5s 16ms/step - loss: 2.4803 - accuracy: 0.5035\n",
      "Epoch 70/100\n",
      "291/291 [==============================] - 5s 17ms/step - loss: 2.4429 - accuracy: 0.5146\n",
      "Epoch 71/100\n",
      "291/291 [==============================] - 5s 17ms/step - loss: 2.5121 - accuracy: 0.5019\n",
      "Epoch 72/100\n",
      "291/291 [==============================] - 5s 17ms/step - loss: 2.4415 - accuracy: 0.5071\n",
      "Epoch 73/100\n",
      "291/291 [==============================] - 5s 17ms/step - loss: 2.4007 - accuracy: 0.5209\n",
      "Epoch 74/100\n",
      "291/291 [==============================] - 5s 16ms/step - loss: 2.3628 - accuracy: 0.5296\n",
      "Epoch 75/100\n",
      "291/291 [==============================] - 5s 16ms/step - loss: 2.3220 - accuracy: 0.5395\n",
      "Epoch 76/100\n",
      "291/291 [==============================] - 5s 17ms/step - loss: 2.3351 - accuracy: 0.5352\n",
      "Epoch 77/100\n",
      "291/291 [==============================] - 5s 16ms/step - loss: 2.2933 - accuracy: 0.5485\n",
      "Epoch 78/100\n",
      "291/291 [==============================] - 5s 17ms/step - loss: 2.2553 - accuracy: 0.5570\n",
      "Epoch 79/100\n",
      "291/291 [==============================] - 5s 16ms/step - loss: 2.2319 - accuracy: 0.5623\n",
      "Epoch 80/100\n"
     ]
    },
    {
     "name": "stdout",
     "output_type": "stream",
     "text": [
      "291/291 [==============================] - 5s 17ms/step - loss: 2.1959 - accuracy: 0.5719\n",
      "Epoch 81/100\n",
      "291/291 [==============================] - 5s 16ms/step - loss: 2.1628 - accuracy: 0.5773\n",
      "Epoch 82/100\n",
      "291/291 [==============================] - 5s 16ms/step - loss: 2.1503 - accuracy: 0.5859\n",
      "Epoch 83/100\n",
      "291/291 [==============================] - 5s 18ms/step - loss: 2.1192 - accuracy: 0.5871\n",
      "Epoch 84/100\n",
      "291/291 [==============================] - 5s 17ms/step - loss: 2.0921 - accuracy: 0.5976\n",
      "Epoch 85/100\n",
      "291/291 [==============================] - 5s 17ms/step - loss: 2.0896 - accuracy: 0.5975\n",
      "Epoch 86/100\n",
      "291/291 [==============================] - 5s 17ms/step - loss: 2.0569 - accuracy: 0.6024\n",
      "Epoch 87/100\n",
      "291/291 [==============================] - 5s 17ms/step - loss: 2.0398 - accuracy: 0.6067\n",
      "Epoch 88/100\n",
      "291/291 [==============================] - 5s 18ms/step - loss: 2.0141 - accuracy: 0.6107\n",
      "Epoch 89/100\n",
      "291/291 [==============================] - 5s 17ms/step - loss: 1.9900 - accuracy: 0.6223\n",
      "Epoch 90/100\n",
      "291/291 [==============================] - 5s 17ms/step - loss: 1.9732 - accuracy: 0.6209\n",
      "Epoch 91/100\n",
      "291/291 [==============================] - 5s 17ms/step - loss: 2.0913 - accuracy: 0.5948\n",
      "Epoch 92/100\n",
      "291/291 [==============================] - 5s 17ms/step - loss: 2.0049 - accuracy: 0.6148\n",
      "Epoch 93/100\n",
      "291/291 [==============================] - 5s 17ms/step - loss: 1.9650 - accuracy: 0.6234\n",
      "Epoch 94/100\n",
      "291/291 [==============================] - 5s 16ms/step - loss: 1.9261 - accuracy: 0.6344\n",
      "Epoch 95/100\n",
      "291/291 [==============================] - 5s 16ms/step - loss: 1.8933 - accuracy: 0.6407\n",
      "Epoch 96/100\n",
      "291/291 [==============================] - 5s 17ms/step - loss: 1.8813 - accuracy: 0.6438\n",
      "Epoch 97/100\n",
      "291/291 [==============================] - 5s 17ms/step - loss: 1.8560 - accuracy: 0.6505\n",
      "Epoch 98/100\n",
      "291/291 [==============================] - 5s 16ms/step - loss: 1.8371 - accuracy: 0.6496\n",
      "Epoch 99/100\n",
      "291/291 [==============================] - 5s 18ms/step - loss: 1.8342 - accuracy: 0.6532\n",
      "Epoch 100/100\n",
      "291/291 [==============================] - 5s 18ms/step - loss: 1.8062 - accuracy: 0.6588\n"
     ]
    }
   ],
   "source": [
    " history = model.fit(predictors, label, epochs=100, verbose=1)"
   ]
  },
  {
   "cell_type": "code",
   "execution_count": 20,
   "metadata": {
    "id": "NKyxsRTqQElP"
   },
   "outputs": [
    {
     "data": {
      "image/png": "[encoded data removed]",
      "text/plain": [
       "<Figure size 432x288 with 1 Axes>"
      ]
     },
     "metadata": {
      "needs_background": "light"
     },
     "output_type": "display_data"
    },
    {
     "data": {
      "image/png": "[encoded data removed]",
      "text/plain": [
       "<Figure size 432x288 with 1 Axes>"
      ]
     },
     "metadata": {
      "needs_background": "light"
     },
     "output_type": "display_data"
    }
   ],
   "source": [
    "plot_history(history)"
   ]
  },
  {
   "cell_type": "code",
   "execution_count": 13,
   "metadata": {},
   "outputs": [],
   "source": [
    "save_variable('modern_love_max_sequence_len',max_sequence_len)"
   ]
  },
  {
   "cell_type": "code",
   "execution_count": 21,
   "metadata": {
    "id": "W4QCPk43Pmwn"
   },
   "outputs": [],
   "source": [
    "model.save('modern_love.h5')\n",
    "save_variable('modern_love_tokenizer')\n",
    "save_variable('modern_love_max_sequence_len',max_sequence_len)\n",
    "\n",
    "del corpus\n",
    "del model\n",
    "del predictors\n",
    "del label"
   ]
  },
  {
   "cell_type": "code",
   "execution_count": 14,
   "metadata": {
    "id": "Mx_0ZyzIPmt6"
   },
   "outputs": [
    {
     "name": "stdout",
     "output_type": "stream",
     "text": [
      "Model: \"sequential_3\"\n",
      "_________________________________________________________________\n",
      "Layer (type)                 Output Shape              Param #   \n",
      "=================================================================\n",
      "embedding_3 (Embedding)      (None, 84, 128)           421248    \n",
      "_________________________________________________________________\n",
      "bidirectional_3 (Bidirection (None, 84, 240)           239040    \n",
      "_________________________________________________________________\n",
      "dropout_3 (Dropout)          (None, 84, 240)           0         \n",
      "_________________________________________________________________\n",
      "lstm_7 (LSTM)                (None, 96)                129408    \n",
      "_________________________________________________________________\n",
      "dense_6 (Dense)              (None, 1645)              159565    \n",
      "_________________________________________________________________\n",
      "dense_7 (Dense)              (None, 3291)              5416986   \n",
      "=================================================================\n",
      "Total params: 6,366,247\n",
      "Trainable params: 6,366,247\n",
      "Non-trainable params: 0\n",
      "_________________________________________________________________\n",
      "None\n"
     ]
    }
   ],
   "source": [
    "corpus = []\n",
    "for line in renaissance_nature:\n",
    "  corpus.extend(line.lower().split('\\r\\n'))\n",
    "\n",
    "tokenizer,total_words,max_sequence_len,predictors,label  = prepare_data(corpus)\n",
    "\n",
    "model = make_model(total_words,max_sequence_len)\n",
    "print(model.summary())"
   ]
  },
  {
   "cell_type": "code",
   "execution_count": 23,
   "metadata": {
    "id": "OtHPUtM2Pmrt"
   },
   "outputs": [
    {
     "name": "stdout",
     "output_type": "stream",
     "text": [
      "Epoch 1/100\n",
      "334/334 [==============================] - 7s 22ms/step - loss: 7.2577 - accuracy: 0.0320\n",
      "Epoch 2/100\n",
      "334/334 [==============================] - 7s 22ms/step - loss: 6.7318 - accuracy: 0.0328\n",
      "Epoch 3/100\n",
      "334/334 [==============================] - 7s 21ms/step - loss: 6.5995 - accuracy: 0.0357\n",
      "Epoch 4/100\n",
      "334/334 [==============================] - 7s 22ms/step - loss: 6.4935 - accuracy: 0.0358\n",
      "Epoch 5/100\n",
      "334/334 [==============================] - 8s 23ms/step - loss: 6.4154 - accuracy: 0.0382\n",
      "Epoch 6/100\n",
      "334/334 [==============================] - 7s 22ms/step - loss: 6.3533 - accuracy: 0.0391\n",
      "Epoch 7/100\n",
      "334/334 [==============================] - 8s 23ms/step - loss: 6.2944 - accuracy: 0.0400\n",
      "Epoch 8/100\n",
      "334/334 [==============================] - 8s 23ms/step - loss: 6.2353 - accuracy: 0.0412\n",
      "Epoch 9/100\n",
      "334/334 [==============================] - 8s 22ms/step - loss: 6.1671 - accuracy: 0.0424\n",
      "Epoch 10/100\n",
      "334/334 [==============================] - 7s 22ms/step - loss: 6.0951 - accuracy: 0.0475\n",
      "Epoch 11/100\n",
      "334/334 [==============================] - 7s 22ms/step - loss: 6.0047 - accuracy: 0.0526\n",
      "Epoch 12/100\n",
      "334/334 [==============================] - 7s 22ms/step - loss: 5.9094 - accuracy: 0.0565\n",
      "Epoch 13/100\n",
      "334/334 [==============================] - 8s 23ms/step - loss: 5.8155 - accuracy: 0.0596\n",
      "Epoch 14/100\n",
      "334/334 [==============================] - 7s 22ms/step - loss: 5.7316 - accuracy: 0.0636\n",
      "Epoch 15/100\n",
      "334/334 [==============================] - 7s 22ms/step - loss: 5.6403 - accuracy: 0.0642\n",
      "Epoch 16/100\n",
      "334/334 [==============================] - 7s 22ms/step - loss: 5.5506 - accuracy: 0.0693\n",
      "Epoch 17/100\n",
      "334/334 [==============================] - 8s 23ms/step - loss: 5.4694 - accuracy: 0.0728\n",
      "Epoch 18/100\n",
      "334/334 [==============================] - 8s 23ms/step - loss: 5.3886 - accuracy: 0.0809\n",
      "Epoch 19/100\n",
      "334/334 [==============================] - 8s 23ms/step - loss: 5.3143 - accuracy: 0.0839\n",
      "Epoch 20/100\n",
      "334/334 [==============================] - 7s 22ms/step - loss: 5.2371 - accuracy: 0.0905\n",
      "Epoch 21/100\n",
      "334/334 [==============================] - 7s 21ms/step - loss: 5.1593 - accuracy: 0.0965\n",
      "Epoch 22/100\n",
      "334/334 [==============================] - 7s 22ms/step - loss: 5.0781 - accuracy: 0.1019\n",
      "Epoch 23/100\n",
      "334/334 [==============================] - 7s 21ms/step - loss: 5.0045 - accuracy: 0.1113\n",
      "Epoch 24/100\n",
      "334/334 [==============================] - 7s 21ms/step - loss: 4.9203 - accuracy: 0.1198\n",
      "Epoch 25/100\n",
      "334/334 [==============================] - 7s 21ms/step - loss: 4.8493 - accuracy: 0.1240\n",
      "Epoch 26/100\n",
      "334/334 [==============================] - 7s 22ms/step - loss: 4.7683 - accuracy: 0.1340\n",
      "Epoch 27/100\n",
      "334/334 [==============================] - 7s 21ms/step - loss: 4.6777 - accuracy: 0.1411\n",
      "Epoch 28/100\n",
      "334/334 [==============================] - 7s 21ms/step - loss: 4.5985 - accuracy: 0.1535\n",
      "Epoch 29/100\n",
      "334/334 [==============================] - 7s 21ms/step - loss: 4.5203 - accuracy: 0.1559\n",
      "Epoch 30/100\n",
      "334/334 [==============================] - 7s 21ms/step - loss: 4.4369 - accuracy: 0.1666\n",
      "Epoch 31/100\n",
      "334/334 [==============================] - 7s 21ms/step - loss: 4.3512 - accuracy: 0.1782\n",
      "Epoch 32/100\n",
      "334/334 [==============================] - 7s 21ms/step - loss: 4.2666 - accuracy: 0.1838\n",
      "Epoch 33/100\n",
      "334/334 [==============================] - 7s 21ms/step - loss: 4.1847 - accuracy: 0.1926\n",
      "Epoch 34/100\n",
      "334/334 [==============================] - 7s 21ms/step - loss: 4.1105 - accuracy: 0.2009\n",
      "Epoch 35/100\n",
      "334/334 [==============================] - 7s 21ms/step - loss: 4.0242 - accuracy: 0.2181\n",
      "Epoch 36/100\n",
      "334/334 [==============================] - 7s 21ms/step - loss: 3.9511 - accuracy: 0.2238\n",
      "Epoch 37/100\n",
      "334/334 [==============================] - 7s 21ms/step - loss: 3.8705 - accuracy: 0.2367\n",
      "Epoch 38/100\n",
      "334/334 [==============================] - 7s 22ms/step - loss: 3.7884 - accuracy: 0.2510\n",
      "Epoch 39/100\n",
      "334/334 [==============================] - 7s 22ms/step - loss: 3.7098 - accuracy: 0.2627\n",
      "Epoch 40/100\n",
      "334/334 [==============================] - 8s 23ms/step - loss: 3.6488 - accuracy: 0.2773\n",
      "Epoch 41/100\n",
      "334/334 [==============================] - 7s 21ms/step - loss: 3.5927 - accuracy: 0.2901 0s - loss: 3.5831 - ac\n",
      "Epoch 42/100\n",
      "334/334 [==============================] - 7s 21ms/step - loss: 3.5151 - accuracy: 0.3008\n",
      "Epoch 43/100\n",
      "334/334 [==============================] - 7s 21ms/step - loss: 3.4608 - accuracy: 0.3162\n",
      "Epoch 44/100\n",
      "334/334 [==============================] - 7s 21ms/step - loss: 3.3938 - accuracy: 0.3258\n",
      "Epoch 45/100\n",
      "334/334 [==============================] - 7s 21ms/step - loss: 3.3278 - accuracy: 0.3379\n",
      "Epoch 46/100\n",
      "334/334 [==============================] - 7s 21ms/step - loss: 3.2596 - accuracy: 0.3545\n",
      "Epoch 47/100\n",
      "334/334 [==============================] - 7s 21ms/step - loss: 3.2087 - accuracy: 0.3706\n",
      "Epoch 48/100\n",
      "334/334 [==============================] - 7s 21ms/step - loss: 3.1440 - accuracy: 0.3862\n",
      "Epoch 49/100\n",
      "334/334 [==============================] - 7s 21ms/step - loss: 3.0898 - accuracy: 0.3916\n",
      "Epoch 50/100\n",
      "334/334 [==============================] - 7s 21ms/step - loss: 3.0388 - accuracy: 0.4045\n",
      "Epoch 51/100\n",
      "334/334 [==============================] - 7s 21ms/step - loss: 2.9977 - accuracy: 0.4182\n",
      "Epoch 52/100\n",
      "334/334 [==============================] - 7s 21ms/step - loss: 2.9299 - accuracy: 0.4328\n",
      "Epoch 53/100\n",
      "334/334 [==============================] - 7s 22ms/step - loss: 2.8913 - accuracy: 0.4448\n",
      "Epoch 54/100\n",
      "334/334 [==============================] - 7s 21ms/step - loss: 2.8328 - accuracy: 0.4558\n",
      "Epoch 55/100\n",
      "334/334 [==============================] - 7s 21ms/step - loss: 2.7974 - accuracy: 0.4664\n",
      "Epoch 56/100\n",
      "334/334 [==============================] - 7s 22ms/step - loss: 2.7503 - accuracy: 0.4735\n",
      "Epoch 57/100\n",
      "334/334 [==============================] - 7s 22ms/step - loss: 2.6810 - accuracy: 0.4960\n",
      "Epoch 58/100\n",
      "334/334 [==============================] - 7s 22ms/step - loss: 2.6363 - accuracy: 0.4979\n",
      "Epoch 59/100\n",
      "334/334 [==============================] - 7s 22ms/step - loss: 2.6154 - accuracy: 0.5047\n",
      "Epoch 60/100\n",
      "334/334 [==============================] - 7s 22ms/step - loss: 2.5665 - accuracy: 0.5177\n",
      "Epoch 61/100\n",
      "334/334 [==============================] - 7s 21ms/step - loss: 2.5186 - accuracy: 0.5255\n",
      "Epoch 62/100\n",
      "334/334 [==============================] - 7s 22ms/step - loss: 2.4756 - accuracy: 0.5363\n",
      "Epoch 63/100\n",
      "334/334 [==============================] - 8s 23ms/step - loss: 2.4397 - accuracy: 0.5451\n",
      "Epoch 64/100\n",
      "334/334 [==============================] - 7s 22ms/step - loss: 2.4024 - accuracy: 0.5551\n",
      "Epoch 65/100\n",
      "334/334 [==============================] - 8s 23ms/step - loss: 2.3671 - accuracy: 0.5614\n",
      "Epoch 66/100\n",
      "334/334 [==============================] - 8s 24ms/step - loss: 2.3307 - accuracy: 0.5687\n",
      "Epoch 67/100\n",
      "334/334 [==============================] - 7s 22ms/step - loss: 2.2902 - accuracy: 0.5756\n",
      "Epoch 68/100\n",
      "334/334 [==============================] - 7s 21ms/step - loss: 2.2520 - accuracy: 0.5882\n",
      "Epoch 69/100\n",
      "334/334 [==============================] - 8s 23ms/step - loss: 2.2217 - accuracy: 0.5952\n",
      "Epoch 70/100\n",
      "334/334 [==============================] - 7s 22ms/step - loss: 2.2042 - accuracy: 0.5967\n",
      "Epoch 71/100\n",
      "334/334 [==============================] - 8s 23ms/step - loss: 2.1600 - accuracy: 0.6047\n",
      "Epoch 72/100\n",
      "334/334 [==============================] - 7s 22ms/step - loss: 2.1074 - accuracy: 0.6212\n",
      "Epoch 73/100\n",
      "334/334 [==============================] - 7s 21ms/step - loss: 2.0789 - accuracy: 0.6250\n",
      "Epoch 74/100\n",
      "334/334 [==============================] - 7s 22ms/step - loss: 2.0692 - accuracy: 0.6268\n",
      "Epoch 75/100\n",
      "334/334 [==============================] - 8s 23ms/step - loss: 2.0388 - accuracy: 0.6313\n",
      "Epoch 76/100\n",
      "334/334 [==============================] - 7s 22ms/step - loss: 2.0119 - accuracy: 0.6358\n",
      "Epoch 77/100\n",
      "334/334 [==============================] - 8s 24ms/step - loss: 1.9893 - accuracy: 0.6421\n",
      "Epoch 78/100\n",
      "334/334 [==============================] - 7s 22ms/step - loss: 1.9423 - accuracy: 0.6545\n",
      "Epoch 79/100\n",
      "334/334 [==============================] - 8s 24ms/step - loss: 1.9309 - accuracy: 0.6554\n",
      "Epoch 80/100\n"
     ]
    },
    {
     "name": "stdout",
     "output_type": "stream",
     "text": [
      "334/334 [==============================] - 7s 21ms/step - loss: 1.8874 - accuracy: 0.6641 0s - loss: 1.8880 - accuracy: 0.\n",
      "Epoch 81/100\n",
      "334/334 [==============================] - 7s 21ms/step - loss: 1.8724 - accuracy: 0.6646\n",
      "Epoch 82/100\n",
      "334/334 [==============================] - 7s 21ms/step - loss: 1.8383 - accuracy: 0.6718\n",
      "Epoch 83/100\n",
      "334/334 [==============================] - 7s 22ms/step - loss: 1.8318 - accuracy: 0.6732\n",
      "Epoch 84/100\n",
      "334/334 [==============================] - 7s 22ms/step - loss: 1.8101 - accuracy: 0.6768\n",
      "Epoch 85/100\n",
      "334/334 [==============================] - 7s 22ms/step - loss: 1.7907 - accuracy: 0.6817\n",
      "Epoch 86/100\n",
      "334/334 [==============================] - 7s 22ms/step - loss: 1.7716 - accuracy: 0.6822\n",
      "Epoch 87/100\n",
      "334/334 [==============================] - 7s 22ms/step - loss: 1.7374 - accuracy: 0.6951\n",
      "Epoch 88/100\n",
      "334/334 [==============================] - 7s 21ms/step - loss: 1.6997 - accuracy: 0.7034\n",
      "Epoch 89/100\n",
      "334/334 [==============================] - 7s 21ms/step - loss: 1.6817 - accuracy: 0.7063\n",
      "Epoch 90/100\n",
      "334/334 [==============================] - 7s 22ms/step - loss: 1.6615 - accuracy: 0.7071\n",
      "Epoch 91/100\n",
      "334/334 [==============================] - 8s 23ms/step - loss: 1.6459 - accuracy: 0.7126\n",
      "Epoch 92/100\n",
      "334/334 [==============================] - 7s 22ms/step - loss: 1.6316 - accuracy: 0.7157\n",
      "Epoch 93/100\n",
      "334/334 [==============================] - 7s 22ms/step - loss: 1.6129 - accuracy: 0.7170\n",
      "Epoch 94/100\n",
      "334/334 [==============================] - 8s 22ms/step - loss: 1.6032 - accuracy: 0.7226\n",
      "Epoch 95/100\n",
      "334/334 [==============================] - 7s 22ms/step - loss: 1.5779 - accuracy: 0.7248\n",
      "Epoch 96/100\n",
      "334/334 [==============================] - 8s 23ms/step - loss: 1.5633 - accuracy: 0.7291\n",
      "Epoch 97/100\n",
      "334/334 [==============================] - 8s 23ms/step - loss: 1.5460 - accuracy: 0.7274\n",
      "Epoch 98/100\n",
      "334/334 [==============================] - 7s 22ms/step - loss: 1.5062 - accuracy: 0.7373\n",
      "Epoch 99/100\n",
      "334/334 [==============================] - 8s 23ms/step - loss: 1.4989 - accuracy: 0.7419\n",
      "Epoch 100/100\n",
      "334/334 [==============================] - 7s 22ms/step - loss: 1.4944 - accuracy: 0.7383\n"
     ]
    }
   ],
   "source": [
    " history = model.fit(predictors, label, epochs=100, verbose=1)"
   ]
  },
  {
   "cell_type": "code",
   "execution_count": 24,
   "metadata": {
    "id": "m5LUyLPTP0c6"
   },
   "outputs": [
    {
     "data": {
      "image/png": "[encoded data removed]",
      "text/plain": [
       "<Figure size 432x288 with 1 Axes>"
      ]
     },
     "metadata": {
      "needs_background": "light"
     },
     "output_type": "display_data"
    },
    {
     "data": {
      "image/png": "[encoded data removed]",
      "text/plain": [
       "<Figure size 432x288 with 1 Axes>"
      ]
     },
     "metadata": {
      "needs_background": "light"
     },
     "output_type": "display_data"
    }
   ],
   "source": [
    "plot_history(history)"
   ]
  },
  {
   "cell_type": "code",
   "execution_count": 15,
   "metadata": {},
   "outputs": [],
   "source": [
    "save_variable('renaissance_nature_max_sequence_len',max_sequence_len)"
   ]
  },
  {
   "cell_type": "code",
   "execution_count": 25,
   "metadata": {
    "id": "aueucQm0Pmo9"
   },
   "outputs": [],
   "source": [
    "model.save('renaissance_nature.h5')\n",
    "save_variable('renaissance_nature_tokenizer')\n",
    "save_variable('renaissance_nature_max_sequence_len',max_sequence_len)\n",
    "\n",
    "del corpus\n",
    "del model\n",
    "del predictors\n",
    "del label"
   ]
  },
  {
   "cell_type": "code",
   "execution_count": null,
   "metadata": {
    "id": "g3fZDdCEPmm-"
   },
   "outputs": [],
   "source": []
  },
  {
   "cell_type": "code",
   "execution_count": 3,
   "metadata": {
    "id": "7NAOqMNYPmkd"
   },
   "outputs": [],
   "source": [
    "models = ['modern_nature','renaissance_love','modern_love','renaissance_nature']"
   ]
  },
  {
   "cell_type": "code",
   "execution_count": 22,
   "metadata": {
    "id": "cFIItZTiPmhr"
   },
   "outputs": [],
   "source": [
    "def predict(model_name,seed_text,next_words):\n",
    "    model = load_model(model_name + '.h5')\n",
    "    tokenizer = load_variable(model_name+'_tokenizer')\n",
    "    max_sequence_len = load_variable(model_name +'_max_sequence_len')\n",
    "    for _ in range(next_words):\n",
    "        token_list = tokenizer.texts_to_sequences([seed_text])[0]\n",
    "        token_list = pad_sequences([token_list], maxlen=max_sequence_len-1, padding='pre')\n",
    "        predicted = model.predict_classes(token_list, verbose=0)\n",
    "        output_word = \"\"\n",
    "        for word, index in tokenizer.word_index.items():\n",
    "            if index == predicted:\n",
    "                output_word = word\n",
    "                break\n",
    "        seed_text += \" \" + output_word \n",
    "        \n",
    "    temp_seed_text = seed_text.split(\" \")\n",
    "    pred = ''\n",
    "    for i in range(0,len(temp_seed_text),8):\n",
    "        pred += ' '.join(temp_seed_text[i:i+8]) + '\\n'\n",
    "#     return seed_text\n",
    "    return pred"
   ]
  },
  {
   "cell_type": "code",
   "execution_count": 26,
   "metadata": {
    "colab": {
     "base_uri": "https://localhost:8080/",
     "height": 142
    },
    "id": "_bdTEbCaPmfN",
    "outputId": "1a033f02-2c0b-4d4c-9fdf-f303f19cd8b0"
   },
   "outputs": [
    {
     "name": "stdout",
     "output_type": "stream",
     "text": [
      "The time has come through the day birds\n",
      "of a table board horse the estate of\n",
      "stephen spender to fell of an around baby\n",
      "back his forehead reprinted by the trustees for\n",
      "the e e cummings trust copyright 1985 by\n",
      "george james firmage reprinted with the permission of\n",
      "liveright publishing corporation copyright 1986 by marc simon\n",
      "\n"
     ]
    }
   ],
   "source": [
    "print(predict('modern_love','The time has come',52))"
   ]
  },
  {
   "cell_type": "code",
   "execution_count": 24,
   "metadata": {
    "id": "PRXv-16iPmc6"
   },
   "outputs": [
    {
     "data": {
      "text/plain": [
       "'This is a season singing in his lord\\npaleth borne bird winds say gone your back\\nand this hill to wood keep on slow\\nflame past three states from the yser his\\nbronze ears listening to the mumbled roar of\\nthe city at his bronze feet will will\\ntake it and a dip to the mockingbird\\n'"
      ]
     },
     "execution_count": 24,
     "metadata": {},
     "output_type": "execute_result"
    }
   ],
   "source": [
    "predict('modern_nature','This is a season',52)"
   ]
  },
  {
   "cell_type": "code",
   "execution_count": null,
   "metadata": {
    "id": "6nI8y1EsPmVS"
   },
   "outputs": [],
   "source": []
  },
  {
   "cell_type": "code",
   "execution_count": null,
   "metadata": {
    "id": "tBChCzTMPmBL"
   },
   "outputs": [],
   "source": []
  }
 ],
 "metadata": {
  "accelerator": "GPU",
  "colab": {
   "collapsed_sections": [],
   "name": "Untitled7.ipynb",
   "provenance": []
  },
  "kernelspec": {
   "display_name": "Python 3",
   "language": "python",
   "name": "python3"
  },
  "language_info": {
   "codemirror_mode": {
    "name": "ipython",
    "version": 3
   },
   "file_extension": ".py",
   "mimetype": "text/x-python",
   "name": "python",
   "nbconvert_exporter": "python",
   "pygments_lexer": "ipython3",
   "version": "3.7.9"
  }
 },
 "nbformat": 4,
 "nbformat_minor": 1
}
